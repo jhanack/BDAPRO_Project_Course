{
 "cells": [
  {
   "cell_type": "code",
   "execution_count": 1,
   "id": "902caa8d",
   "metadata": {
    "scrolled": true
   },
   "outputs": [],
   "source": [
    "import numpy as np\n",
    "import matplotlib.pyplot as plt"
   ]
  },
  {
   "cell_type": "code",
   "execution_count": 11,
   "id": "95612cfe",
   "metadata": {},
   "outputs": [
    {
     "data": {
      "image/png": "[encoded data removed]",
      "text/plain": [
       "<Figure size 432x288 with 1 Axes>"
      ]
     },
     "metadata": {
      "needs_background": "light"
     },
     "output_type": "display_data"
    }
   ],
   "source": [
    "## Scale Factor 1\n",
    "\n",
    "# set width of bars\n",
    "barWidth = 0.22\n",
    " \n",
    "# set heights of bars\n",
    "\n",
    "bars1 = [4.2, 6.1]\n",
    "bars2 = [6.0, 6.0]\n",
    "bars3 = [16.8, 19.0]\n",
    "bars4 = [17.0, 0]\n",
    "\n",
    "\n",
    " \n",
    "# Set position of bar on X axis\n",
    "r1 = np.arange(len(bars1))\n",
    "r2 = [x + barWidth for x in r1]\n",
    "r3 = [x + barWidth for x in r2]\n",
    "r4 = [x + barWidth for x in r3]\n",
    " \n",
    "# Make the plot\n",
    "plt.bar(r1, bars1, color='#7f6d5f', width=barWidth, edgecolor='white', label='XDBX')\n",
    "plt.bar(r2, bars2, color='#557f2d', width=barWidth, edgecolor='white', label='SparkSQL')\n",
    "plt.bar(r3, bars3, color='#2d7f5e', width=barWidth, edgecolor='white', label='Spark + Write')\n",
    "plt.bar(r4, bars4, color='#3d4f3e', width=barWidth, edgecolor='white', label='Presto')\n",
    " \n",
    "# Add xticks on the middle of the group bars\n",
    "plt.ylabel('Runtime in s', fontweight='bold')\n",
    "plt.xticks([r + barWidth for r in range(len(bars1))], ['Query 3', 'Query 10'])\n",
    " \n",
    "# Create legend & Show graphic\n",
    "ax = plt.subplot(111)\n",
    "ax.legend(bbox_to_anchor=(1.0, 1.01))\n",
    "##plt.legend()\n",
    "plt.show()"
   ]
  },
  {
   "cell_type": "code",
   "execution_count": null,
   "id": "57413c7d",
   "metadata": {},
   "outputs": [],
   "source": [
    "## Scale Factor 10\n",
    "\n",
    "# set width of bars\n",
    "barWidth = 0.22\n",
    " \n",
    "# set heights of bars\n",
    "\n",
    "bars1 = [80.808, 37.930]\n",
    "bars2 = [7.36, 7.32]\n",
    "bars3 = [114.529, 67.222]\n",
    "bars4 = [0, 0]\n",
    "\n",
    "\n",
    " \n",
    "# Set position of bar on X axis\n",
    "r1 = np.arange(len(bars1))\n",
    "r2 = [x + barWidth for x in r1]\n",
    "r3 = [x + barWidth for x in r2]\n",
    "r4 = [x + barWidth for x in r3]\n",
    " \n",
    "# Make the plot\n",
    "plt.bar(r1, bars1, color='#7f6d5f', width=barWidth, edgecolor='white', label='XDBX')\n",
    "plt.bar(r2, bars2, color='#557f2d', width=barWidth, edgecolor='white', label='SparkSQL')\n",
    "plt.bar(r3, bars3, color='#2d7f5e', width=barWidth, edgecolor='white', label='Spark + Write')\n",
    "plt.bar(r4, bars4, color='#3d4f3e', width=barWidth, edgecolor='white', label='Presto')\n",
    " \n",
    "# Add xticks on the middle of the group bars\n",
    "plt.ylabel('Runtime in s', fontweight='bold')\n",
    "plt.xticks([r + barWidth for r in range(len(bars1))], ['Query 3', 'Query 10'])\n",
    " \n",
    "# Create legend & Show graphic\n",
    "ax = plt.subplot(111)\n",
    "ax.legend(bbox_to_anchor=(1.0, 1.01))\n",
    "##plt.legend()\n",
    "plt.show()"
   ]
  }
 ],
 "metadata": {
  "kernelspec": {
   "display_name": "Python 3 (ipykernel)",
   "language": "python",
   "name": "python3"
  },
  "language_info": {
   "codemirror_mode": {
    "name": "ipython",
    "version": 3
   },
   "file_extension": ".py",
   "mimetype": "text/x-python",
   "name": "python",
   "nbconvert_exporter": "python",
   "pygments_lexer": "ipython3",
   "version": "3.8.12"
  }
 },
 "nbformat": 4,
 "nbformat_minor": 5
}
